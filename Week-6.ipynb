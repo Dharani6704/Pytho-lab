{
 "cells": [
  {
   "cell_type": "code",
   "execution_count": null,
   "metadata": {},
   "outputs": [
    {
     "name": "stdout",
     "output_type": "stream",
     "text": [
      "Error: Invalid input. Please enter valid numbers.\n"
     ]
    }
   ],
   "source": [
    "#1. Write a program that detects an Exception\n",
    "def detect_exception():\n",
    "    try:\n",
    "        num1 = float(input(\"Enter the numerator: \"))\n",
    "        num2 = float(input(\"Enter the denominator: \"))\n",
    "        result = num1 / num2\n",
    "        print(f\"The result of division is: {result}\")\n",
    "    \n",
    "    except ZeroDivisionError:\n",
    "        print(\"Error: Division by zero is not allowed.\")\n",
    "    \n",
    "    except ValueError:\n",
    "        print(\"Error: Invalid input. Please enter valid numbers.\")\n",
    "    \n",
    "    except Exception as e:\n",
    "        print(f\"An unexpected error occurred: {e}\")\n",
    "\n",
    "detect_exception()\n"
   ]
  },
  {
   "cell_type": "code",
   "execution_count": 2,
   "metadata": {},
   "outputs": [
    {
     "name": "stdout",
     "output_type": "stream",
     "text": [
      "Error: Division by zero is not allowed.\n",
      "Error: You must be at least 18 years old to vote.\n"
     ]
    }
   ],
   "source": [
    "#2. Write a program that raise an Exception ( divide by zero error,voter’s age validity\n",
    "def divide_numbers():\n",
    "    try:\n",
    "        num1 = float(input(\"Enter the numerator: \"))\n",
    "        num2 = float(input(\"Enter the denominator: \"))\n",
    "        \n",
    "        if num2 == 0:\n",
    "            raise ZeroDivisionError(\"Error: Division by zero is not allowed.\")\n",
    "        \n",
    "        result = num1 / num2\n",
    "        print(f\"The result of division is: {result}\")\n",
    "\n",
    "    except ZeroDivisionError as e:\n",
    "        print(e)\n",
    "\n",
    "def check_voter_age():\n",
    "    try:\n",
    "        age = int(input(\"Enter your age: \"))\n",
    "        if age < 18:\n",
    "            raise ValueError(\"Error: You must be at least 18 years old to vote.\")        \n",
    "        print(\"You are eligible to vote.\")\n",
    "    \n",
    "    except ValueError as e:\n",
    "        print(e)\n",
    "\n",
    "divide_numbers()\n",
    "check_voter_age()\n"
   ]
  },
  {
   "cell_type": "code",
   "execution_count": 3,
   "metadata": {},
   "outputs": [
    {
     "name": "stdout",
     "output_type": "stream",
     "text": [
      "Error: Marks must be between 0 and 100.\n"
     ]
    }
   ],
   "source": [
    "#3. Write a program that raise an Exception as string(), student mark range validation)\n",
    "def validate_student_marks():\n",
    "    try:\n",
    "        marks = int(input(\"Enter the student's marks (0-100): \"))\n",
    "        if marks < 0 or marks > 100:\n",
    "            raise Exception(\"Error: Marks must be between 0 and 100.\")\n",
    "        print(f\"The student's marks are: {marks}\")\n",
    "    \n",
    "    except Exception as e:\n",
    "        print(e)\n",
    "\n",
    "validate_student_marks()"
   ]
  },
  {
   "cell_type": "code",
   "execution_count": 4,
   "metadata": {},
   "outputs": [
    {
     "name": "stdout",
     "output_type": "stream",
     "text": [
      "Error: float division by zero. You cannot divide by zero.\n",
      "End of exception handling process.\n"
     ]
    }
   ],
   "source": [
    "#4. Use the structure of exception handling all general purpose exceptions.\n",
    "def general_exception_handling():\n",
    "    try:\n",
    "        num1 = float(input(\"Enter the numerator: \"))\n",
    "        num2 = float(input(\"Enter the denominator: \"))\n",
    "    \n",
    "        result = num1 / num2\n",
    "        print(f\"The result of division is: {result}\")\n",
    "    \n",
    "    except ZeroDivisionError as e:\n",
    "        print(f\"Error: {e}. You cannot divide by zero.\")\n",
    "    \n",
    "    except ValueError as e:\n",
    "        print(f\"Error: {e}. Please enter valid numeric values.\")\n",
    "    \n",
    "    except Exception as e:\n",
    "        print(f\"An unexpected error occurred: {e}\")\n",
    "    \n",
    "    else:\n",
    "        print(\"Division was successful.\")\n",
    "    \n",
    "    finally:\n",
    "        print(\"End of exception handling process.\")\n",
    "general_exception_handling()"
   ]
  },
  {
   "cell_type": "code",
   "execution_count": 5,
   "metadata": {},
   "outputs": [
    {
     "name": "stdout",
     "output_type": "stream",
     "text": [
      "Phone number is valid.\n",
      "Email ID is valid.\n"
     ]
    }
   ],
   "source": [
    "#5. Write a python code to read a phone number and email-id from the user and validate it for correctness.\n",
    "def validate_phone_number(phone_number):\n",
    "    if len(phone_number) == 10 and phone_number.isdigit():\n",
    "        return True\n",
    "    else:\n",
    "        return False\n",
    "    \n",
    "def validate_email(email):\n",
    "    if \"@\" in email and \".\" in email and email.index(\"@\") < email.index(\".\"):\n",
    "        return True\n",
    "    else:\n",
    "        return False\n",
    "\n",
    "def validate_user_input():\n",
    "    phone_number = input(\"Enter your phone number (10 digits): \")\n",
    "    email = input(\"Enter your email ID: \")\n",
    "  \n",
    "    if validate_phone_number(phone_number):\n",
    "        print(\"Phone number is valid.\")\n",
    "    else:\n",
    "        print(\"Error: Invalid phone number. It must be 10 digits.\")\n",
    "    \n",
    "    if validate_email(email):\n",
    "        print(\"Email ID is valid.\")\n",
    "    else:\n",
    "        print(\"Error: Invalid email ID.\")\n",
    "\n",
    "validate_user_input()"
   ]
  }
 ],
 "metadata": {
  "kernelspec": {
   "display_name": "Python 3",
   "language": "python",
   "name": "python3"
  },
  "language_info": {
   "codemirror_mode": {
    "name": "ipython",
    "version": 3
   },
   "file_extension": ".py",
   "mimetype": "text/x-python",
   "name": "python",
   "nbconvert_exporter": "python",
   "pygments_lexer": "ipython3",
   "version": "3.13.0"
  }
 },
 "nbformat": 4,
 "nbformat_minor": 2
}
