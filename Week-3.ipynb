{
 "cells": [
  {
   "cell_type": "code",
   "execution_count": null,
   "metadata": {},
   "outputs": [
    {
     "name": "stdout",
     "output_type": "stream",
     "text": [
      "[1, 2, 'hi', 4, 5, 'a']\n",
      "(6, 'x', 8, 9, 10)\n",
      "After converting list into array\n",
      "['1' '2' '3' '4' '5' 'a']\n",
      "After converting tuple into array\n",
      "['6' 'x' '8' '9' '10']\n"
     ]
    }
   ],
   "source": [
    "#1.i.Write a program to convert a list and tuple into arrays.\n",
    "import numpy as np\n",
    "list1=[1,2,\"hi\",4,5,\"a\"]\n",
    "array1=np.array(list_data)\n",
    "tuple1=(6,\"x\",8,9,10)\n",
    "array2=np.array(tuple1)\n",
    "print(list1)\n",
    "print(tuple1)\n",
    "print(\"After converting list into array\")\n",
    "print(array1)\n",
    "print(\"After converting tuple into array\")\n",
    "print(array2)"
   ]
  },
  {
   "cell_type": "code",
   "execution_count": null,
   "metadata": {},
   "outputs": [
    {
     "name": "stdout",
     "output_type": "stream",
     "text": [
      "[1, 4] "
     ]
    }
   ],
   "source": [
    "#1.ii.Write a program to find common values between two arrays.\n",
    "A=[1,7,4]\n",
    "B=[1,2,3,4]\n",
    "newarray=[x for x in A if x in B]\n",
    "print(newarray,end=\" \")"
   ]
  },
  {
   "cell_type": "code",
   "execution_count": null,
   "metadata": {},
   "outputs": [
    {
     "name": "stdout",
     "output_type": "stream",
     "text": [
      "Greatest common divisor of 2 and 6 is 2\n"
     ]
    }
   ],
   "source": [
    "#2.Write a function called gcd that takes parameters a and b and returns their greatest common divisor.\n",
    "import math\n",
    "def find_gcd(a,b):\n",
    "    gcd=math.gcd(a,b)\n",
    "    return gcd\n",
    "a=int(input(\"Enter first number:\"))\n",
    "b=int(input(\"Enter second number:\"))\n",
    "print(f\"Greatest common divisor of {a} and {b} is {find_gcd(a,b)}\")"
   ]
  },
  {
   "cell_type": "code",
   "execution_count": null,
   "metadata": {},
   "outputs": [
    {
     "name": "stdout",
     "output_type": "stream",
     "text": [
      "Yes,wow is a palindrome \n"
     ]
    }
   ],
   "source": [
    "#3.Write a function called palindrome that takes a string argument and returns True if it is a palindrome and False otherwise. \n",
    "# Remember that you can use the built-in function len to check the length of a string.\n",
    "def isPalindrome(s):\n",
    "    n=len(s)\n",
    "    for i in range(0, int(n/2)):\n",
    "        if s[i] != s[n-i-1]:\n",
    "            return False\n",
    "    return True\n",
    "s = str(input(\"Enter string:\"))\n",
    "ans = isPalindrome(s)\n",
    "\n",
    "if (ans):\n",
    "    print(f\"Yes,{s} is a palindrome \")\n",
    "else:\n",
    "    print(f\"No,{s} is not a palindrome\")\n",
    "\n"
   ]
  },
  {
   "cell_type": "code",
   "execution_count": 1,
   "metadata": {},
   "outputs": [
    {
     "name": "stdout",
     "output_type": "stream",
     "text": [
      "Mean: 3.1666666666666665\n",
      "Median: 2.5\n",
      "Mode: 2\n"
     ]
    }
   ],
   "source": [
    "#4. Find mean, median, mode for the given set of numbers in a list. \n",
    "def calculate_mean(numbers):\n",
    "    \"\"\"\n",
    "    Calculates the mean of a list of numbers.\n",
    "    \"\"\"\n",
    "    total = sum(numbers)\n",
    "    count = len(numbers)\n",
    "    return total / count\n",
    "\n",
    "def calculate_median(numbers):\n",
    "    \"\"\"\n",
    "    Calculates the median of a list of numbers.\n",
    "    \"\"\"\n",
    "    sorted_numbers = sorted(numbers)  # Sort the numbers\n",
    "    n = len(sorted_numbers)\n",
    "    mid = n // 2\n",
    "    if n % 2 == 0:\n",
    "        # If even number of elements, median is the average of the middle two\n",
    "        return (sorted_numbers[mid - 1] + sorted_numbers[mid]) / 2\n",
    "    else:\n",
    "        # If odd number of elements, median is the middle element\n",
    "        return sorted_numbers[mid]\n",
    "\n",
    "def calculate_mode(numbers):\n",
    "    frequency = {}\n",
    "    for num in numbers:\n",
    "        frequency[num] = frequency.get(num, 0) + 1\n",
    "    \n",
    "    max_freq = max(frequency.values())\n",
    "    modes = [key for key, value in frequency.items() if value == max_freq]\n",
    "    \n",
    "    return modes if len(modes) > 1 else modes[0]\n",
    "\n",
    "# Example usage\n",
    "numbers = list(map(int, input(\"Enter numbers separated by spaces: \").split()))\n",
    "print(\"Mean:\", calculate_mean(numbers))\n",
    "print(\"Median:\", calculate_median(numbers))\n",
    "print(\"Mode:\", calculate_mode(numbers))\n"
   ]
  },
  {
   "cell_type": "code",
   "execution_count": 2,
   "metadata": {},
   "outputs": [
    {
     "name": "stdout",
     "output_type": "stream",
     "text": [
      "The created tuple is: (1, 2, 3, 'apple', 4.5, True)\n"
     ]
    }
   ],
   "source": [
    "#5. Write a Python program to create a tuple. \n",
    "def create_tuple():\n",
    "    my_tuple = (1, 2, 3, \"apple\", 4.5, True)\n",
    "    print(\"The created tuple is:\", my_tuple)\n",
    "create_tuple()"
   ]
  },
  {
   "cell_type": "code",
   "execution_count": 3,
   "metadata": {},
   "outputs": [
    {
     "name": "stdout",
     "output_type": "stream",
     "text": [
      "The created tuple is: (1, 2, 3, 'apple', 4.5, True)\n"
     ]
    }
   ],
   "source": [
    "#6. Write a Python program to create a tuple with different data types\n",
    "def create_tuple():\n",
    "    my_tuple = (1, 2, 3, \"apple\", 4.5, True)\n",
    "    print(\"The created tuple is:\", my_tuple)\n",
    "create_tuple()"
   ]
  },
  {
   "cell_type": "code",
   "execution_count": 6,
   "metadata": {},
   "outputs": [
    {
     "name": "stdout",
     "output_type": "stream",
     "text": [
      "hi exists in the tuple.\n"
     ]
    }
   ],
   "source": [
    "#7. Write a Python program to check whether an element exists within a tuple\n",
    "def check_element_in_tuple(my_tuple, element):\n",
    "    if element in my_tuple:\n",
    "        return True\n",
    "    else:\n",
    "        return False\n",
    "my_tuple = (1, 2, 3,\"hi\", 4.5, True)\n",
    "element_to_check = input(\"Enter the element to check: \")\n",
    "if check_element_in_tuple(my_tuple, element_to_check):\n",
    "    print(f\"{element_to_check} exists in the tuple.\")\n",
    "else:\n",
    "    print(f\"{element_to_check} does not exist in the tuple.\")\n"
   ]
  }
 ],
 "metadata": {
  "kernelspec": {
   "display_name": "Python 3",
   "language": "python",
   "name": "python3"
  },
  "language_info": {
   "codemirror_mode": {
    "name": "ipython",
    "version": 3
   },
   "file_extension": ".py",
   "mimetype": "text/x-python",
   "name": "python",
   "nbconvert_exporter": "python",
   "pygments_lexer": "ipython3",
   "version": "3.13.0"
  }
 },
 "nbformat": 4,
 "nbformat_minor": 2
}
