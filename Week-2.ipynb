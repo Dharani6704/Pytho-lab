{
 "cells": [
  {
   "cell_type": "code",
   "execution_count": 5,
   "metadata": {},
   "outputs": [
    {
     "name": "stdout",
     "output_type": "stream",
     "text": [
      "5 \n",
      "4 4 \n",
      "3 3 3 \n",
      "2 2 2 2 \n",
      "1 1 1 1 1 \n"
     ]
    }
   ],
   "source": [
    "#Print the below triangle using for loop.\n",
    "#5\n",
    "#4 4\n",
    "#3 3 3\n",
    "#2 2 2 2\n",
    "#1 1 1 1 1\n",
    "n=int(input(\"Enter number of rows:\"))\n",
    "for i in range(n, 0, -1):\n",
    "    for j in range(6 - i):\n",
    "        print(i, end=\" \")\n",
    "    print()  \n"
   ]
  },
  {
   "cell_type": "code",
   "execution_count": 9,
   "metadata": {},
   "outputs": [
    {
     "name": "stdout",
     "output_type": "stream",
     "text": [
      "'@' is a special character.\n"
     ]
    }
   ],
   "source": [
    "#Write a program to check whether the given input is digit or lowercase character or uppercase character or a special character (use 'if-else-if' ladder)\n",
    "\n",
    "def check(ch):\n",
    "    if ch.isdigit():\n",
    "        print(f\"'{ch}' is a digit.\")\n",
    "    elif ch.islower():\n",
    "        print(f\"'{ch}' is a lowercase letter.\")\n",
    "    elif ch.isupper():\n",
    "        print(f\"'{ch}' is an uppercase letter.\")\n",
    "    else:\n",
    "        print(f\"'{ch}' is a special character.\")\n",
    "\n",
    "char = input(\"Enter a single character: \")\n",
    "check(char)\n",
    "\n",
    "\n"
   ]
  },
  {
   "cell_type": "code",
   "execution_count": 20,
   "metadata": {},
   "outputs": [
    {
     "name": "stdout",
     "output_type": "stream",
     "text": [
      "0 1 1 2 \n"
     ]
    }
   ],
   "source": [
    "#Python Program to Print the Fibonacci sequence using while loop\n",
    "n = int(input(\"Enter range:\"))\n",
    "n1 = 0\n",
    "n2 = 1\n",
    "count = 0\n",
    "\n",
    "while count < n:\n",
    "    print(n1, end=\" \")\n",
    "    count += 1\n",
    "    n1, n2 = n2,  n1 + n2\n",
    "print()"
   ]
  },
  {
   "cell_type": "code",
   "execution_count": 24,
   "metadata": {},
   "outputs": [
    {
     "name": "stdout",
     "output_type": "stream",
     "text": [
      "2 3 5 7 "
     ]
    }
   ],
   "source": [
    "#Python program to print all prime numbers in a given interval (use break)\n",
    "n = int(input (\"Enter the  Range : \"))  \n",
    "for x in range (1, n + 1):  \n",
    "    if x > 1:  \n",
    "        for i in range (2, x):  \n",
    "            if (x % i) == 0:  \n",
    "                break  \n",
    "        else:  \n",
    "            print (x,end=\" \")"
   ]
  },
  {
   "cell_type": "code",
   "execution_count": 26,
   "metadata": {},
   "outputs": [
    {
     "name": "stdout",
     "output_type": "stream",
     "text": [
      "The Least Common Multiple (LCM) of 2 and 5 is 10.0.\n"
     ]
    }
   ],
   "source": [
    "# Write a program to compute LCM of two numbers by taking input from the user\n",
    "import math\n",
    "def findlcm(a, b):\n",
    "    gcd = math.gcd(a, b) \n",
    "    lcm = abs(a * b) / gcd  \n",
    "    return lcm\n",
    "num1 = int(input(\"Enter the first number: \"))\n",
    "num2 = int(input(\"Enter the second number: \"))\n",
    "\n",
    "lcm = findlcm(num1, num2)\n",
    "print(f\"The Least Common Multiple (LCM) of {num1} and {num2} is {lcm}.\")\n"
   ]
  },
  {
   "cell_type": "code",
   "execution_count": null,
   "metadata": {},
   "outputs": [],
   "source": [
    "#Write a program add.py that takes 2 numbers as command line arguments and prints its sum\n"
   ]
  }
 ],
 "metadata": {
  "kernelspec": {
   "display_name": "Python 3",
   "language": "python",
   "name": "python3"
  },
  "language_info": {
   "codemirror_mode": {
    "name": "ipython",
    "version": 3
   },
   "file_extension": ".py",
   "mimetype": "text/x-python",
   "name": "python",
   "nbconvert_exporter": "python",
   "pygments_lexer": "ipython3",
   "version": "3.12.0"
  }
 },
 "nbformat": 4,
 "nbformat_minor": 2
}
